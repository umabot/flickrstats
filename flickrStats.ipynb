{
 "cells": [
  {
   "cell_type": "markdown",
   "metadata": {},
   "source": [
    "# Connecting to Flickr\n",
    "Several things are needed:\n",
    "- create an app in Flickr Garden\n",
    "- get a secret and a key to connect\n",
    "\n",
    "With this then you can write the code to connect to Flickr via Python.\n",
    "\n",
    "Also need to research how to read the api_key and api_secret from a secure place and not put in plain text in the code."
   ]
  },
  {
   "cell_type": "code",
   "execution_count": null,
   "metadata": {},
   "outputs": [],
   "source": [
    "import flickrapi\n",
    "\n",
    "api_key = u'992c50d09d7a04d5877798a549aa6bc6'\n",
    "api_secret = u'0fb9aa30fc229463'\n",
    "\n",
    "flickr = flickrapi.FlickrAPI(api_key, api_secret,format='parsed-json')"
   ]
  },
  {
   "cell_type": "markdown",
   "metadata": {},
   "source": [
    "## Comments:\n",
    "flickr = flickrapi.FlickrAPI(api_key, api_secret) not including format gives error\n",
    "\n",
    "`TypeError: 'str' object cannot be interpreted as an integer`\n",
    "\n",
    "The response is in xml format and we need another way to parse the data\n",
    "\n",
    "Added `format='parsed-json'` as a parameter to the call.\n",
    "\n",
    "Need to import json libraries into the code. And the os and csv libraries."
   ]
  },
  {
   "cell_type": "code",
   "execution_count": null,
   "metadata": {},
   "outputs": [],
   "source": [
    "import json\n",
    "import csv\n",
    "import os.path"
   ]
  },
  {
   "cell_type": "markdown",
   "metadata": {},
   "source": [
    "# Connect to Flickr via oauth\n",
    "If there is no token valid we need to connect and get one"
   ]
  },
  {
   "cell_type": "code",
   "execution_count": null,
   "metadata": {},
   "outputs": [],
   "source": [
    "import webbrowser\n",
    "\n",
    "if not flickr.token_valid(perms='read'):\n",
    "\n",
    "    # Get a request token\n",
    "    flickr.get_request_token(oauth_callback='oob')\n",
    "\n",
    "    # Open a browser at the authentication URL. Do this however\n",
    "    # you want, as long as the user visits that URL.\n",
    "    authorize_url = flickr.auth_url(perms='read')\n",
    "    webbrowser.open_new_tab(authorize_url)\n",
    "\n",
    "    # Get the verifier code from the user. Do this however you\n",
    "    # want, as long as the user gives the application the code.\n",
    "    verifier = str(input('Verifier code: '))\n",
    "\n",
    "    # Trade the request token for an access token\n",
    "    flickr.get_access_token(verifier)"
   ]
  },
  {
   "cell_type": "markdown",
   "metadata": {},
   "source": [
    "# Setting the parameters\n",
    "`datestouse`: date in yyyy-mm-dd format\n",
    "`filename`: string, file name of the output csv file\n",
    "  "
   ]
  }
 ],
 "metadata": {
  "language_info": {
   "name": "python"
  }
 },
 "nbformat": 4,
 "nbformat_minor": 2
}
