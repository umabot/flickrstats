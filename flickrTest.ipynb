{
 "cells": [
  {
   "cell_type": "markdown",
   "metadata": {},
   "source": [
    "# Import Libraries\n",
    "\n",
    "I import the libraries needed"
   ]
  },
  {
   "cell_type": "code",
   "execution_count": 2,
   "metadata": {},
   "outputs": [],
   "source": [
    "import flickrapi\n",
    "import csv\n",
    "import os.path\n",
    "from dotenv import load_dotenv"
   ]
  },
  {
   "cell_type": "markdown",
   "metadata": {},
   "source": [
    "# Load env vars"
   ]
  },
  {
   "cell_type": "code",
   "execution_count": 4,
   "metadata": {},
   "outputs": [
    {
     "name": "stdout",
     "output_type": "stream",
     "text": [
      "API Key: 992c50d09d7a04d5877798a549aa6bc6\n",
      "API Secret: 0fb9aa30fc229463\n"
     ]
    }
   ],
   "source": [
    "# Load environment variables\n",
    "load_dotenv()\n",
    "\n",
    "# Get API credentials from environment variables\n",
    "api_key = os.getenv('FLICKR_API_KEY')\n",
    "api_secret = os.getenv('FLICKR_API_SECRET')\n",
    "\n",
    "print('API Key:', api_key)\n",
    "print('API Secret:', api_secret)"
   ]
  },
  {
   "cell_type": "markdown",
   "metadata": {},
   "source": [
    "# Connect to Flickr and auth"
   ]
  },
  {
   "cell_type": "code",
   "execution_count": 5,
   "metadata": {},
   "outputs": [],
   "source": [
    "flickr = flickrapi.FlickrAPI(api_key, api_secret,format='parsed-json')\n",
    "\n",
    "if not flickr.token_valid(perms='read'):\n",
    "\n",
    "    # Get a request token\n",
    "    flickr.get_request_token(oauth_callback='oob')\n",
    "\n",
    "    # Open a browser at the authentication URL. Do this however\n",
    "    # you want, as long as the user visits that URL.\n",
    "    authorize_url = flickr.auth_url(perms='read')\n",
    "    webbrowser.open_new_tab(authorize_url)\n",
    "\n",
    "    # Get the verifier code from the user. Do this however you\n",
    "    # want, as long as the user gives the application the code.\n",
    "    verifier = str(input('Verifier code: '))\n",
    "\n",
    "    # Trade the request token for an access token\n",
    "    flickr.get_access_token(verifier)"
   ]
  },
  {
   "cell_type": "markdown",
   "metadata": {},
   "source": [
    "I will call the flickr API function "
   ]
  },
  {
   "cell_type": "code",
   "execution_count": 17,
   "metadata": {},
   "outputs": [],
   "source": [
    "date = '2025-02-01'\n",
    "\n",
    "page = 1\n",
    "per_page = 500  # Maximum allowed by Flickr API\n",
    "all_photos_views = 0\n",
    "processed_photos = set()"
   ]
  },
  {
   "cell_type": "code",
   "execution_count": 19,
   "metadata": {},
   "outputs": [
    {
     "name": "stdout",
     "output_type": "stream",
     "text": [
      "Total photos: 3445\n"
     ]
    }
   ],
   "source": [
    "# Get public photos\n",
    "photos = flickr.photos.search(\n",
    "    min_upload_date=date,\n",
    "    max_upload_date=date,\n",
    "    privacy_filter=1,  # 1 = public photos only\n",
    "    page=page,\n",
    "    per_page=per_page,\n",
    "    extras='views'\n",
    ")\n",
    "\n",
    "print('Total photos:', photos['photos']['total'])"
   ]
  }
 ],
 "metadata": {
  "kernelspec": {
   "display_name": "venv_flickr",
   "language": "python",
   "name": "python3"
  },
  "language_info": {
   "codemirror_mode": {
    "name": "ipython",
    "version": 3
   },
   "file_extension": ".py",
   "mimetype": "text/x-python",
   "name": "python",
   "nbconvert_exporter": "python",
   "pygments_lexer": "ipython3",
   "version": "3.13.0"
  }
 },
 "nbformat": 4,
 "nbformat_minor": 2
}
